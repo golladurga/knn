{
 "cells": [
  {
   "cell_type": "code",
   "execution_count": 2,
   "id": "9dbbac78",
   "metadata": {},
   "outputs": [
    {
     "ename": "NameError",
     "evalue": "name 'KNeighborsRegressor' is not defined",
     "output_type": "error",
     "traceback": [
      "\u001b[1;31m---------------------------------------------------------------------------\u001b[0m",
      "\u001b[1;31mNameError\u001b[0m                                 Traceback (most recent call last)",
      "Cell \u001b[1;32mIn[2], line 4\u001b[0m\n\u001b[0;32m      1\u001b[0m \u001b[38;5;28;01mfrom\u001b[39;00m \u001b[38;5;21;01msklearn\u001b[39;00m\u001b[38;5;21;01m.\u001b[39;00m\u001b[38;5;21;01mmodel_selection\u001b[39;00m \u001b[38;5;28;01mimport\u001b[39;00m cross_val_score\n\u001b[0;32m      3\u001b[0m \u001b[38;5;66;03m# Initialize KNN regressor\u001b[39;00m\n\u001b[1;32m----> 4\u001b[0m knn \u001b[38;5;241m=\u001b[39m \u001b[43mKNeighborsRegressor\u001b[49m(n_neighbors\u001b[38;5;241m=\u001b[39m\u001b[38;5;241m5\u001b[39m)  \u001b[38;5;66;03m# Start with an arbitrary k value\u001b[39;00m\n\u001b[0;32m      6\u001b[0m \u001b[38;5;66;03m# Perform cross-validation with different k values\u001b[39;00m\n\u001b[0;32m      7\u001b[0m k_values \u001b[38;5;241m=\u001b[39m [\u001b[38;5;241m1\u001b[39m, \u001b[38;5;241m3\u001b[39m, \u001b[38;5;241m5\u001b[39m, \u001b[38;5;241m7\u001b[39m, \u001b[38;5;241m9\u001b[39m, \u001b[38;5;241m11\u001b[39m, \u001b[38;5;241m13\u001b[39m, \u001b[38;5;241m15\u001b[39m]\n",
      "\u001b[1;31mNameError\u001b[0m: name 'KNeighborsRegressor' is not defined"
     ]
    }
   ],
   "source": [
    "from sklearn.model_selection import cross_val_score\n",
    "\n",
    "# Initialize KNN regressor\n",
    "knn = KNeighborsRegressor(n_neighbors=5)  # Start with an arbitrary k value\n",
    "\n",
    "# Perform cross-validation with different k values\n",
    "k_values = [1, 3, 5, 7, 9, 11, 13, 15]\n",
    "cv_scores = []\n",
    "\n",
    "for k in k_values:\n",
    "    knn.n_neighbors = k\n",
    "    scores = cross_val_score(knn, X_train, y_train, cv=5, scoring='neg_mean_squared_error')\n",
    "    cv_scores.append(-scores.mean())\n",
    "\n",
    "# Find the best k value\n",
    "best_k = k_values[cv_scores.index(min(cv_scores))]\n",
    "\n",
    "print(f\"Best k value: {best_k}\")"
   ]
  },
  {
   "cell_type": "code",
   "execution_count": null,
   "id": "b79f0d80",
   "metadata": {},
   "outputs": [],
   "source": []
  },
  {
   "cell_type": "code",
   "execution_count": null,
   "id": "7a5c35a2",
   "metadata": {},
   "outputs": [],
   "source": []
  }
 ],
 "metadata": {
  "kernelspec": {
   "display_name": "Python 3 (ipykernel)",
   "language": "python",
   "name": "python3"
  },
  "language_info": {
   "codemirror_mode": {
    "name": "ipython",
    "version": 3
   },
   "file_extension": ".py",
   "mimetype": "text/x-python",
   "name": "python",
   "nbconvert_exporter": "python",
   "pygments_lexer": "ipython3",
   "version": "3.10.9"
  }
 },
 "nbformat": 4,
 "nbformat_minor": 5
}
